{
 "cells": [
  {
   "cell_type": "code",
   "execution_count": 1,
   "id": "feede333",
   "metadata": {},
   "outputs": [],
   "source": [
    "import nltk\n",
    "from nltk.stem import WordNetLemmatizer\n",
    "\n",
    "lemmatizer = WordNetLemmatizer()\n",
    "\n",
    "import numpy as np\n",
    "from keras.models import load_model\n",
    "model = load_model('chatbot_model.h5')\n",
    "import json\n",
    "import random\n",
    "intents = json.loads(open('intents.json').read())\n",
    "words = json.loads(open('words_data.json').read())\n",
    "classes = json.loads(open('classes_data.json').read())"
   ]
  },
  {
   "cell_type": "code",
   "execution_count": 2,
   "id": "d41b447f",
   "metadata": {},
   "outputs": [
    {
     "name": "stdout",
     "output_type": "stream",
     "text": [
      "Model: \"sequential_3\"\n",
      "_________________________________________________________________\n",
      "Layer (type)                 Output Shape              Param #   \n",
      "=================================================================\n",
      "dense_9 (Dense)              (None, 128)               7936      \n",
      "_________________________________________________________________\n",
      "dropout_6 (Dropout)          (None, 128)               0         \n",
      "_________________________________________________________________\n",
      "dense_10 (Dense)             (None, 64)                8256      \n",
      "_________________________________________________________________\n",
      "dropout_7 (Dropout)          (None, 64)                0         \n",
      "_________________________________________________________________\n",
      "dense_11 (Dense)             (None, 7)                 455       \n",
      "=================================================================\n",
      "Total params: 16,647\n",
      "Trainable params: 16,647\n",
      "Non-trainable params: 0\n",
      "_________________________________________________________________\n"
     ]
    }
   ],
   "source": [
    "model.summary()"
   ]
  },
  {
   "cell_type": "code",
   "execution_count": 3,
   "id": "aee861a6",
   "metadata": {},
   "outputs": [
    {
     "name": "stdout",
     "output_type": "stream",
     "text": [
      "['a', 'anyone', 'are', 'awesome', 'book', 'buy', 'bye', 'can', 'check', 'comedy', 'cost', 'day', 'do', 'doe', 'for', 'genre', 'good', 'goodbye', 'have', 'hello', 'helpful', 'helping', 'hey', 'hi', 'hola', 'how', 'i', 'introduce', 'is', 'later', 'me', 'money', 'much', 'name', 'newest', 'next', 'novel', 'order', 'out', 'pay', 'please', 'recommend', 'romantic', 'see', 'sell', 'some', 'thank', 'thanks', 'that', 'the', 'there', 'this', 'till', 'time', 'to', 'want', 'what', 'who', 'you', 'your', 'yourself']\n",
      "['buybooks', 'goodbye', 'greeting', 'introduce', 'noanswer', 'payment', 'thanks']\n"
     ]
    }
   ],
   "source": [
    "print(words)\n",
    "print(classes)"
   ]
  },
  {
   "cell_type": "code",
   "execution_count": 4,
   "id": "ca37aa79",
   "metadata": {},
   "outputs": [],
   "source": [
    "def clean(sentence):\n",
    "    # tokenize the pattern - split words into array\n",
    "    sentence_words = nltk.word_tokenize(sentence)\n",
    "    # stem each word - create short form for word\n",
    "    sentence_words = [lemmatizer.lemmatize(word.lower()) for word in sentence_words]\n",
    "    return sentence_words\n",
    "\n",
    "# return bag of words array: 0 or 1 for each word in the bag that exists in the sentence\n",
    "def bow(sentence, words):\n",
    "    # tokenize the pattern\n",
    "    sentence_words = clean(sentence)\n",
    "    # bag of words - matrix of N words, vocabulary matrix\n",
    "    bag = [0]*len(words) \n",
    "    for s in sentence_words:\n",
    "        for i,w in enumerate(words):\n",
    "            if w == s: \n",
    "                # assign 1 if current word is in the vocabulary position\n",
    "                bag[i] = 1\n",
    "    return(np.array(bag))\n",
    "\n",
    "def predict_class(sentence, model):\n",
    "    # filter out predictions below a threshold\n",
    "    p = bow(sentence, words)\n",
    "    res = model.predict(np.array([p]))[0]\n",
    "    ERROR_THRESHOLD = 0.25\n",
    "#     print(res)\n",
    "\n",
    "    results = [[i,r] for i,r in enumerate(res) if r>ERROR_THRESHOLD]\n",
    "    # sort by strength of probability\n",
    "    results.sort(key=lambda x: x[1], reverse=True)\n",
    "    return_list = []\n",
    "    for r in results:\n",
    "        return_list.append({\"intent\": classes[r[0]], \"probability\": str(r[1])})\n",
    "    return return_list"
   ]
  },
  {
   "cell_type": "code",
   "execution_count": 5,
   "id": "6789d61e",
   "metadata": {},
   "outputs": [],
   "source": [
    "def getResponse(ints, intents_json):\n",
    "    tag = ints[0]['intent']\n",
    "    list_of_intents = intents_json['intents']\n",
    "    for i in list_of_intents:\n",
    "        if(i['tag']== tag):\n",
    "            result = random.choice(i['responses'])\n",
    "            break\n",
    "    return result\n",
    "def chatbot_response(text):\n",
    "    ints = predict_class(text, model)\n",
    "    predict_intent = ints[0]['intent']\n",
    "    # print(ints)\n",
    "    res = getResponse(ints, intents)\n",
    "    \n",
    "    return res, ints[0]['intent']"
   ]
  },
  {
   "cell_type": "code",
   "execution_count": 6,
   "id": "f060af2f",
   "metadata": {},
   "outputs": [],
   "source": [
    "# while(True):\n",
    "#     w = str(input())\n",
    "#     print(\"You: \", w)\n",
    "#     res = chatbot_response(w)\n",
    "#     print(\"Bot: \",res)\n",
    "    "
   ]
  },
  {
   "cell_type": "markdown",
   "id": "77ced7dd",
   "metadata": {},
   "source": [
    "## Create data for Online Shopping"
   ]
  },
  {
   "cell_type": "code",
   "execution_count": 7,
   "id": "bdf57a18",
   "metadata": {},
   "outputs": [],
   "source": [
    "import pandas as pd\n",
    "import numpy as np\n",
    "\n",
    "data = pd.read_csv(\"books.csv\")\n",
    "\n",
    "arr = np.array(data)\n",
    "# print(arr)"
   ]
  },
  {
   "cell_type": "code",
   "execution_count": 8,
   "id": "2b53ddf2",
   "metadata": {},
   "outputs": [
    {
     "name": "stdout",
     "output_type": "stream",
     "text": [
      "{'id': 101, 'book': 'The Lord of the Rings', 'author': 'J.R.R. Tolkien', 'price': 599999}\n",
      "{'id': 102, 'book': 'The Kite Runner', 'author': 'Khaled Hosseini', 'price': 649999}\n",
      "{'id': 103, 'book': 'Harry Potter and the Philosopher Stone', 'author': 'J.K. Rowling', 'price': 549999}\n",
      "{'id': 104, 'book': 'Slaughterhouse-Five', 'author': 'Kurt Vonnegut', 'price': 549999}\n",
      "{'id': 105, 'book': 'The Lion, the Witch, and the Wardrobe', 'author': 'C.S. Lewis', 'price': 549999}\n",
      "{'id': 106, 'book': 'To Kill a Mockingbird', 'author': 'Harper Lee', 'price': 599999}\n",
      "{'id': 107, 'book': 'The Book Thief', 'author': 'Markus Zusak', 'price': 499999}\n",
      "{'id': 108, 'book': 'Wuthering Heights', 'author': 'Emily Bronte', 'price': 649999}\n",
      "{'id': 109, 'book': 'The Catcher in the Rye', 'author': 'J.D. Salinger', 'price': 449999}\n",
      "{'id': 110, 'book': 'Animal Farm', 'author': 'George Orwell', 'price': 499999}\n"
     ]
    },
    {
     "data": {
      "text/plain": [
       "'[{\"id\": 101, \"book\": \"The Lord of the Rings\", \"author\": \"J.R.R. Tolkien\", \"price\": 599999}, {\"id\": 102, \"book\": \"The Kite Runner\", \"author\": \"Khaled Hosseini\", \"price\": 649999}, {\"id\": 103, \"book\": \"Harry Potter and the Philosopher Stone\", \"author\": \"J.K. Rowling\", \"price\": 549999}, {\"id\": 104, \"book\": \"Slaughterhouse-Five\", \"author\": \"Kurt Vonnegut\", \"price\": 549999}, {\"id\": 105, \"book\": \"The Lion, the Witch, and the Wardrobe\", \"author\": \"C.S. Lewis\", \"price\": 549999}, {\"id\": 106, \"book\": \"To Kill a Mockingbird\", \"author\": \"Harper Lee\", \"price\": 599999}, {\"id\": 107, \"book\": \"The Book Thief\", \"author\": \"Markus Zusak\", \"price\": 499999}, {\"id\": 108, \"book\": \"Wuthering Heights\", \"author\": \"Emily Bronte\", \"price\": 649999}, {\"id\": 109, \"book\": \"The Catcher in the Rye\", \"author\": \"J.D. Salinger\", \"price\": 449999}, {\"id\": 110, \"book\": \"Animal Farm\", \"author\": \"George Orwell\", \"price\": 499999}]'"
      ]
     },
     "execution_count": 8,
     "metadata": {},
     "output_type": "execute_result"
    }
   ],
   "source": [
    "products = []\n",
    "for i in range(len(arr)):\n",
    "    pd = {\n",
    "        \"id\": arr[i][0],\n",
    "        \"book\": arr[i][1],\n",
    "        \"author\": arr[i][2],\n",
    "        \"price\": arr[i][3]\n",
    "    }\n",
    "    print(pd)\n",
    "    products.append(pd)\n",
    "products = json.dumps(products)\n",
    "products"
   ]
  },
  {
   "cell_type": "markdown",
   "id": "027994c3",
   "metadata": {},
   "source": [
    "## Build the User Interface"
   ]
  },
  {
   "cell_type": "code",
   "execution_count": 9,
   "id": "bb3dbbde",
   "metadata": {},
   "outputs": [],
   "source": [
    "from flask import Flask, render_template, request, make_response\n",
    "from flask_cors import CORS"
   ]
  },
  {
   "cell_type": "code",
   "execution_count": null,
   "id": "bc13fe47",
   "metadata": {},
   "outputs": [
    {
     "name": "stdout",
     "output_type": "stream",
     "text": [
      " * Serving Flask app '__main__' (lazy loading)\n",
      " * Environment: production\n",
      "\u001b[31m   WARNING: This is a development server. Do not use it in a production deployment.\u001b[0m\n",
      "\u001b[2m   Use a production WSGI server instead.\u001b[0m\n",
      " * Debug mode: off\n"
     ]
    },
    {
     "name": "stderr",
     "output_type": "stream",
     "text": [
      " * Running on http://localhost:8000/ (Press CTRL+C to quit)\n",
      "127.0.0.1 - - [03/Dec/2021 22:55:16] \"GET / HTTP/1.1\" 200 -\n",
      "127.0.0.1 - - [03/Dec/2021 22:55:16] \"GET /favicon.ico HTTP/1.1\" 404 -\n",
      "127.0.0.1 - - [03/Dec/2021 22:55:20] \"GET /get_bot?msg=%3Cspan%20class%20%3D%20%22message%20user%22%3E%20User%3A%20hello%3C%2Fspan%3E HTTP/1.1\" 200 -\n",
      "127.0.0.1 - - [03/Dec/2021 22:55:32] \"GET /get_bot?msg=%3Cspan%20class%20%3D%20%22message%20user%22%3E%20User%3A%20who%20the%20fuck%20are%20you%3F%3C%2Fspan%3E HTTP/1.1\" 200 -\n"
     ]
    }
   ],
   "source": [
    "app = Flask(__name__)\n",
    "\n",
    "CORS(app)\n",
    "app.config.update(\n",
    "    TEMPLATES_AUTO_RELOAD = True\n",
    ")\n",
    "path = \"main.html\"\n",
    "\n",
    "@app.route(\"/\")\n",
    "def home_page():\n",
    "    return (render_template(\"main.html\"))\n",
    "\n",
    "@app.route('/products')\n",
    "def product_page():\n",
    "    return (render_template(\"products.html\"))\n",
    "\n",
    "@app.route(\"/payment\")\n",
    "def payment_page():\n",
    "    return render_template(\"payment.html\")\n",
    "\n",
    "@app.route(\"/get_products\")\n",
    "def get_products():  \n",
    "    res = make_response(products)\n",
    "#     res.set_cookie('cross-site-cookie', samesite='None', secure=True);\n",
    "    return res\n",
    "\n",
    "@app.route(\"/get_bot\")\n",
    "def bot_response():\n",
    "    text = request.args.get('msg')\n",
    "    res = chatbot_response(text) \n",
    "    data = json.dumps({\"intent\": res[1], \"response\": res[0]})    \n",
    "    return data\n",
    "\n",
    "\n",
    "if __name__ == \"__main__\":\n",
    "    app.run(host=\"localhost\", port=8000, debug=False)"
   ]
  },
  {
   "cell_type": "code",
   "execution_count": null,
   "id": "f0fdc1f2",
   "metadata": {},
   "outputs": [],
   "source": []
  },
  {
   "cell_type": "code",
   "execution_count": null,
   "id": "f8255022",
   "metadata": {},
   "outputs": [],
   "source": []
  }
 ],
 "metadata": {
  "kernelspec": {
   "display_name": "Python 3 (ipykernel)",
   "language": "python",
   "name": "python3"
  },
  "language_info": {
   "codemirror_mode": {
    "name": "ipython",
    "version": 3
   },
   "file_extension": ".py",
   "mimetype": "text/x-python",
   "name": "python",
   "nbconvert_exporter": "python",
   "pygments_lexer": "ipython3",
   "version": "3.7.11"
  }
 },
 "nbformat": 4,
 "nbformat_minor": 5
}
