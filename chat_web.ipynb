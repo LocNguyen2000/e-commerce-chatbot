{
 "cells": [
  {
   "cell_type": "code",
   "execution_count": 1,
   "id": "feede333",
   "metadata": {},
   "outputs": [
    {
     "name": "stdout",
     "output_type": "stream",
     "text": [
      "Model: \"sequential\"\n",
      "_________________________________________________________________\n",
      "Layer (type)                 Output Shape              Param #   \n",
      "=================================================================\n",
      "dense (Dense)                (None, 128)               15872     \n",
      "_________________________________________________________________\n",
      "dropout (Dropout)            (None, 128)               0         \n",
      "_________________________________________________________________\n",
      "dense_1 (Dense)              (None, 64)                8256      \n",
      "_________________________________________________________________\n",
      "dropout_1 (Dropout)          (None, 64)                0         \n",
      "_________________________________________________________________\n",
      "dense_2 (Dense)              (None, 7)                 455       \n",
      "=================================================================\n",
      "Total params: 24,583\n",
      "Trainable params: 24,583\n",
      "Non-trainable params: 0\n",
      "_________________________________________________________________\n"
     ]
    }
   ],
   "source": [
    "import nltk\n",
    "from nltk.stem import WordNetLemmatizer\n",
    "import pickle\n",
    "\n",
    "lemmatizer = WordNetLemmatizer()\n",
    "\n",
    "import numpy as np\n",
    "from keras.models import load_model\n",
    "\n",
    "#load model NN\n",
    "model = load_model('chatbot_model.h5')\n",
    "model.summary()\n",
    "\n",
    "#Load model sklearn\n",
    "# with open('SVC.pkl', 'rb') as f:\n",
    "#     model = pickle.load(f)\n",
    "\n",
    "import json\n",
    "import random\n",
    "intents = json.loads(open('intents.json').read())\n",
    "words = json.loads(open('words_data.json').read())\n",
    "classes = json.loads(open('classes_data.json').read())"
   ]
  },
  {
   "cell_type": "code",
   "execution_count": 2,
   "id": "aee861a6",
   "metadata": {},
   "outputs": [
    {
     "name": "stdout",
     "output_type": "stream",
     "text": [
      "[\"'m\", 'a', 'about', 'accept', 'adios', 'all', 'an', 'any', 'anyone', 'are', 'awesome', 'be', 'book', 'bracelet', 'buy', 'bye', 'camera', 'can', 'card', 'cash', 'check', 'child', 'cooker', 'cost', 'credit', 'day', 'do', 'doe', 'dress', 'for', 'frying', 'get', 'gloss', 'good', 'goodbye', 'got', 'have', 'headphone', 'heel', 'hello', 'help', 'helpful', 'helping', 'hey', 'hi', 'high', 'hola', 'horror', 'how', 'hya', 'i', 'introduce', 'iphone', 'is', 'kind', 'laptop', 'later', 'lip', 'lipstick', 'looking', 'lot', 'lotion', 'mastercard', 'me', 'moisturizers', 'money', 'much', 'na', 'name', 'need', 'needed', 'newest', 'next', 'nice', 'novel', 'of', 'ok', 'only', 'or', 'order', 'out', 'pair', 'pan', 'pay', 'paypal', 'please', 'pot', 'prom', 'purchase', 'recommend', 'rice', 'see', 'sell', 'shampoo', 'shirt', 'shoe', 'show', 'some', 'suggest', 'sunglass', 'take', 'thank', 'thanks', 'that', 'the', 'there', 'this', 'till', 'time', 'to', 'too', 'toy', 'vest', 'wan', 'want', 'watch', 'what', 'who', 'with', 'would', 'you', 'your', 'yourself']\n",
      "['buyproduct', 'goodbye', 'greeting', 'introduce', 'noanswer', 'payment', 'thanks']\n"
     ]
    }
   ],
   "source": [
    "print(words)\n",
    "print(classes)"
   ]
  },
  {
   "cell_type": "code",
   "execution_count": 3,
   "id": "6992d528",
   "metadata": {},
   "outputs": [],
   "source": [
    "def clean(sentence):\n",
    "    # tokenize the pattern - split words into array\n",
    "    sentence_words = nltk.word_tokenize(sentence)\n",
    "    # stem each word - create short form for word\n",
    "    sentence_words = [lemmatizer.lemmatize(word.lower()) for word in sentence_words]\n",
    "    return sentence_words\n",
    "\n",
    "# return bag of words array: 0 or 1 for each word in the bag that exists in the sentence\n",
    "def bow(sentence, words):\n",
    "    # tokenize the pattern\n",
    "    sentence_words = clean(sentence)\n",
    "    # bag of words - matrix of N words, vocabulary matrix\n",
    "    bag = [0]*len(words) \n",
    "    for s in sentence_words:\n",
    "        for i,w in enumerate(words):\n",
    "            if w == s: \n",
    "                # assign 1 if current word is in the vocabulary position\n",
    "                bag[i] = 1\n",
    "    return(np.array(bag))"
   ]
  },
  {
   "cell_type": "code",
   "execution_count": 4,
   "id": "ca37aa79",
   "metadata": {},
   "outputs": [],
   "source": [
    "#for neural network models\n",
    "\n",
    "def predict_class(sentence, model):\n",
    "    # filter out predictions below a threshold\n",
    "    p = bow(sentence, words)\n",
    "    res = model.predict(np.array([p]))[0]\n",
    "    ERROR_THRESHOLD = 0.25\n",
    "#     print(res)\n",
    "\n",
    "    results = [[i,r] for i,r in enumerate(res) if r>ERROR_THRESHOLD]\n",
    "    # sort by strength of probability\n",
    "    results.sort(key=lambda x: x[1], reverse=True)\n",
    "    return_list = []\n",
    "    for r in results:\n",
    "        return_list.append({\"intent\": classes[r[0]], \"probability\": str(r[1])})\n",
    "    return return_list\n",
    "\n",
    "def getResponse(ints, intents_json):\n",
    "    tag = ints[0]['intent']\n",
    "    list_of_intents = intents_json['intents']\n",
    "    for i in list_of_intents:\n",
    "        if(i['tag']== tag):\n",
    "            result = random.choice(i['responses'])\n",
    "            break\n",
    "    return result\n",
    "\n",
    "def chatbot_response(text):\n",
    "    ints = predict_class(text, model)\n",
    "    predict_intent = ints[0]['intent']\n",
    "    # print(ints)\n",
    "    res = getResponse(ints, intents)\n",
    "    \n",
    "    return res, ints[0]['intent']"
   ]
  },
  {
   "cell_type": "code",
   "execution_count": 4,
   "id": "6789d61e",
   "metadata": {},
   "outputs": [],
   "source": [
    "#for sklearn models\n",
    "def predict(sentence):\n",
    "    x_vec = bow(sentence, words)\n",
    "    y_pred = model.predict(np.array([x_vec]))[0]\n",
    "    intent = classes[y_pred]\n",
    "#     print(\"PREDICT: \",intent, \"\\n\")\n",
    "\n",
    "    return intent\n",
    "\n",
    "def get_response(intent):\n",
    "    intent_list = intents[\"intents\"]\n",
    "    for i in intent_list:\n",
    "        if (i['tag'] == intent):\n",
    "            result = random.choice(i['responses'])\n",
    "            break\n",
    "    return result\n",
    "\n",
    "def chatbot(word):\n",
    "    pred = predict(word)\n",
    "    res = get_response(pred)\n",
    "    return res, pred"
   ]
  },
  {
   "cell_type": "code",
   "execution_count": 15,
   "id": "f060af2f",
   "metadata": {},
   "outputs": [],
   "source": [
    "# while(True):\n",
    "#     w = str(input())\n",
    "#     print(\"You: \", w)\n",
    "#     res = chatbot_response(w)\n",
    "#     print(\"Bot: \",res)\n",
    "    "
   ]
  },
  {
   "cell_type": "code",
   "execution_count": 5,
   "id": "6ff00524",
   "metadata": {},
   "outputs": [
    {
     "data": {
      "text/plain": [
       "array([[9.0399169e-04, 4.0047648e-04, 9.3839180e-01, 3.9830923e-04,\n",
       "        5.7327084e-02, 6.6315936e-04, 1.9151077e-03]], dtype=float32)"
      ]
     },
     "execution_count": 5,
     "metadata": {},
     "output_type": "execute_result"
    }
   ],
   "source": [
    "model.predict(np.array([bow(\"good!\",words)]))"
   ]
  },
  {
   "cell_type": "markdown",
   "id": "77ced7dd",
   "metadata": {},
   "source": [
    "## Create data for Online Shopping"
   ]
  },
  {
   "cell_type": "code",
   "execution_count": 6,
   "id": "bdf57a18",
   "metadata": {},
   "outputs": [],
   "source": [
    "import pandas as pd\n",
    "import numpy as np\n",
    "\n",
    "data = pd.read_csv(\"books.csv\")\n",
    "\n",
    "arr = np.array(data)\n",
    "# print(arr)"
   ]
  },
  {
   "cell_type": "code",
   "execution_count": 7,
   "id": "2b53ddf2",
   "metadata": {},
   "outputs": [
    {
     "name": "stdout",
     "output_type": "stream",
     "text": [
      "{'id': 101, 'book': 'The Lord of the Rings', 'author': 'J.R.R. Tolkien', 'price': 599999}\n",
      "{'id': 102, 'book': 'The Kite Runner', 'author': 'Khaled Hosseini', 'price': 649999}\n",
      "{'id': 103, 'book': 'Harry Potter and the Philosopher Stone', 'author': 'J.K. Rowling', 'price': 549999}\n",
      "{'id': 104, 'book': 'Slaughterhouse-Five', 'author': 'Kurt Vonnegut', 'price': 549999}\n",
      "{'id': 105, 'book': 'The Lion, the Witch, and the Wardrobe', 'author': 'C.S. Lewis', 'price': 549999}\n",
      "{'id': 106, 'book': 'To Kill a Mockingbird', 'author': 'Harper Lee', 'price': 599999}\n",
      "{'id': 107, 'book': 'The Book Thief', 'author': 'Markus Zusak', 'price': 499999}\n",
      "{'id': 108, 'book': 'Wuthering Heights', 'author': 'Emily Bronte', 'price': 649999}\n",
      "{'id': 109, 'book': 'The Catcher in the Rye', 'author': 'J.D. Salinger', 'price': 449999}\n",
      "{'id': 110, 'book': 'Animal Farm', 'author': 'George Orwell', 'price': 499999}\n"
     ]
    },
    {
     "data": {
      "text/plain": [
       "'[{\"id\": 101, \"book\": \"The Lord of the Rings\", \"author\": \"J.R.R. Tolkien\", \"price\": 599999}, {\"id\": 102, \"book\": \"The Kite Runner\", \"author\": \"Khaled Hosseini\", \"price\": 649999}, {\"id\": 103, \"book\": \"Harry Potter and the Philosopher Stone\", \"author\": \"J.K. Rowling\", \"price\": 549999}, {\"id\": 104, \"book\": \"Slaughterhouse-Five\", \"author\": \"Kurt Vonnegut\", \"price\": 549999}, {\"id\": 105, \"book\": \"The Lion, the Witch, and the Wardrobe\", \"author\": \"C.S. Lewis\", \"price\": 549999}, {\"id\": 106, \"book\": \"To Kill a Mockingbird\", \"author\": \"Harper Lee\", \"price\": 599999}, {\"id\": 107, \"book\": \"The Book Thief\", \"author\": \"Markus Zusak\", \"price\": 499999}, {\"id\": 108, \"book\": \"Wuthering Heights\", \"author\": \"Emily Bronte\", \"price\": 649999}, {\"id\": 109, \"book\": \"The Catcher in the Rye\", \"author\": \"J.D. Salinger\", \"price\": 449999}, {\"id\": 110, \"book\": \"Animal Farm\", \"author\": \"George Orwell\", \"price\": 499999}]'"
      ]
     },
     "execution_count": 7,
     "metadata": {},
     "output_type": "execute_result"
    }
   ],
   "source": [
    "products = []\n",
    "for i in range(len(arr)):\n",
    "    pd = {\n",
    "        \"id\": arr[i][0],\n",
    "        \"book\": arr[i][1],\n",
    "        \"author\": arr[i][2],\n",
    "        \"price\": arr[i][3]\n",
    "    }\n",
    "    print(pd)\n",
    "    products.append(pd)\n",
    "products = json.dumps(products)\n",
    "products"
   ]
  },
  {
   "cell_type": "code",
   "execution_count": 8,
   "id": "0122f88c",
   "metadata": {},
   "outputs": [
    {
     "name": "stdout",
     "output_type": "stream",
     "text": [
      "('Hola! How can I help?', 'greeting')\n"
     ]
    }
   ],
   "source": [
    "print(chatbot_response(\"good\"))\n",
    "#print(chatbot(\"good\"))"
   ]
  },
  {
   "cell_type": "code",
   "execution_count": 9,
   "id": "50b1fb72",
   "metadata": {},
   "outputs": [
    {
     "name": "stdout",
     "output_type": "stream",
     "text": [
      "test_true: ['greeting', 'greeting', 'greeting', 'greeting', 'introduce', 'goodbye', 'goodbye', 'goodbye', 'goodbye', 'thanks', 'thanks', 'thanks', 'thanks', 'buyproduct', 'buyproduct', 'buyproduct', 'buyproduct', 'buyproduct', 'buyproduct', 'buyproduct', 'buyproduct', 'buyproduct', 'payment', 'payment', 'payment', 'thanks', 'thanks', 'buyproduct', 'buyproduct', 'introduce', 'introduce', 'greeting', 'thanks', 'greeting', 'payment', 'goodbye', 'thanks', 'thanks', 'payment', 'buyproduct', 'introduce', 'greeting', 'buyproduct', 'introduce', 'payment', 'payment', 'payment', 'thanks', 'buyproduct', 'greeting']\n",
      "****************************************\n",
      "test_pred: ['greeting', 'greeting', 'noanswer', 'greeting', 'introduce', 'goodbye', 'goodbye', 'goodbye', 'goodbye', 'thanks', 'thanks', 'thanks', 'thanks', 'buyproduct', 'buyproduct', 'buyproduct', 'buyproduct', 'buyproduct', 'buyproduct', 'buyproduct', 'buyproduct', 'buyproduct', 'payment', 'payment', 'payment', 'greeting', 'noanswer', 'buyproduct', 'buyproduct', 'introduce', 'introduce', 'greeting', 'greeting', 'greeting', 'buyproduct', 'goodbye', 'greeting', 'noanswer', 'payment', 'buyproduct', 'introduce', 'buyproduct', 'buyproduct', 'introduce', 'payment', 'payment', 'payment', 'noanswer', 'buyproduct', 'greeting']\n",
      "****************************************\n",
      "Accuracy: 0.82\n",
      "F1 score: 0.7348539415766305\n"
     ]
    }
   ],
   "source": [
    "#for neural network\n",
    "from sklearn.metrics import accuracy_score, f1_score\n",
    "testjson = json.loads(open('test_data.json').read())\n",
    "testtrue = []\n",
    "testpred = []\n",
    "for idx in range(len(testjson)):\n",
    "    testtrue.append(testjson[idx][1])\n",
    "    testpred.append(chatbot_response(testjson[idx][0])[1])\n",
    "print(\"test_true: {}\".format(testtrue))\n",
    "print('*'*40)\n",
    "print(\"test_pred: {}\".format(testpred))\n",
    "print('*'*40)\n",
    "print(\"Accuracy: {}\".format(accuracy_score(testtrue, testpred)))\n",
    "print(\"F1 score: {}\".format(f1_score(testtrue, testpred, average = 'macro')))"
   ]
  },
  {
   "cell_type": "code",
   "execution_count": 11,
   "id": "1b949203",
   "metadata": {},
   "outputs": [
    {
     "name": "stdout",
     "output_type": "stream",
     "text": [
      "test_true: ['greeting', 'greeting', 'greeting', 'greeting', 'introduce', 'goodbye', 'goodbye', 'goodbye', 'goodbye', 'thanks', 'thanks', 'thanks', 'thanks', 'buyproduct', 'buyproduct', 'buyproduct', 'buyproduct', 'buyproduct', 'buyproduct', 'buyproduct', 'buyproduct', 'buyproduct', 'payment', 'payment', 'payment', 'thanks', 'thanks', 'buyproduct', 'buyproduct', 'introduce', 'introduce', 'greeting', 'thanks', 'greeting', 'payment', 'goodbye', 'thanks', 'thanks', 'payment', 'buyproduct', 'introduce', 'greeting', 'buyproduct', 'introduce', 'payment', 'payment', 'payment', 'thanks', 'buyproduct', 'greeting']\n",
      "****************************************\n",
      "test_pred: ['greeting', 'greeting', 'greeting', 'greeting', 'introduce', 'goodbye', 'goodbye', 'goodbye', 'goodbye', 'thanks', 'thanks', 'thanks', 'thanks', 'buyproduct', 'buyproduct', 'buyproduct', 'buyproduct', 'buyproduct', 'buyproduct', 'buyproduct', 'buyproduct', 'buyproduct', 'payment', 'payment', 'payment', 'greeting', 'greeting', 'buyproduct', 'buyproduct', 'introduce', 'introduce', 'greeting', 'greeting', 'greeting', 'buyproduct', 'goodbye', 'greeting', 'greeting', 'payment', 'buyproduct', 'greeting', 'greeting', 'thanks', 'introduce', 'payment', 'payment', 'payment', 'greeting', 'buyproduct', 'greeting']\n",
      "****************************************\n",
      "Accuracy: 0.82\n",
      "F1 score: 0.8299631930066713\n"
     ]
    }
   ],
   "source": [
    "#for sklearn models\n",
    "from sklearn.metrics import accuracy_score, f1_score\n",
    "testjson = json.loads(open('test_data.json').read())\n",
    "testtrue = []\n",
    "testpred = []\n",
    "for idx in range(len(testjson)):\n",
    "    testtrue.append(testjson[idx][1])\n",
    "    testpred.append(predict(testjson[idx][0]))\n",
    "print(\"test_true: {}\".format(testtrue))\n",
    "print('*'*40)\n",
    "print(\"test_pred: {}\".format(testpred))\n",
    "print('*'*40)\n",
    "print(\"Accuracy: {}\".format(accuracy_score(testtrue, testpred)))\n",
    "print(\"F1 score: {}\".format(f1_score(testtrue, testpred, average = 'macro')))"
   ]
  },
  {
   "cell_type": "markdown",
   "id": "027994c3",
   "metadata": {},
   "source": [
    "## Build the User Interface"
   ]
  },
  {
   "cell_type": "code",
   "execution_count": 10,
   "id": "bb3dbbde",
   "metadata": {},
   "outputs": [],
   "source": [
    "from flask import Flask, render_template, request, make_response\n",
    "from flask_cors import CORS"
   ]
  },
  {
   "cell_type": "code",
   "execution_count": null,
   "id": "bc13fe47",
   "metadata": {},
   "outputs": [
    {
     "name": "stdout",
     "output_type": "stream",
     "text": [
      " * Serving Flask app '__main__' (lazy loading)\n",
      " * Environment: production\n",
      "\u001b[31m   WARNING: This is a development server. Do not use it in a production deployment.\u001b[0m\n",
      "\u001b[2m   Use a production WSGI server instead.\u001b[0m\n",
      " * Debug mode: off\n"
     ]
    },
    {
     "name": "stderr",
     "output_type": "stream",
     "text": [
      " * Running on http://localhost:8002/ (Press CTRL+C to quit)\n",
      "127.0.0.1 - - [12/Dec/2021 21:32:00] \"GET / HTTP/1.1\" 200 -\n",
      "127.0.0.1 - - [12/Dec/2021 21:32:39] \"GET /get_bot?msg=%3Cspan%20class%20%3D%20%22message%20user%22%3E%20User%3A%20hello%3C%2Fspan%3E HTTP/1.1\" 200 -\n",
      "127.0.0.1 - - [12/Dec/2021 21:32:48] \"GET /get_bot?msg=%3Cspan%20class%20%3D%20%22message%20user%22%3E%20User%3A%20who%20are%20u%20%3C%2Fspan%3E HTTP/1.1\" 200 -\n",
      "127.0.0.1 - - [12/Dec/2021 21:32:56] \"GET /get_bot?msg=%3Cspan%20class%20%3D%20%22message%20user%22%3E%20User%3A%20I%20want%20to%20buy%3C%2Fspan%3E HTTP/1.1\" 200 -\n",
      "127.0.0.1 - - [12/Dec/2021 21:32:57] \"GET /products HTTP/1.1\" 200 -\n",
      "127.0.0.1 - - [12/Dec/2021 21:32:57] \"GET /get_products HTTP/1.1\" 200 -\n",
      "127.0.0.1 - - [12/Dec/2021 21:33:43] \"GET / HTTP/1.1\" 200 -\n",
      "127.0.0.1 - - [12/Dec/2021 21:33:49] \"GET /get_bot?msg=%3Cspan%20class%20%3D%20%22message%20user%22%3E%20User%3A%20order%3C%2Fspan%3E HTTP/1.1\" 200 -\n",
      "127.0.0.1 - - [12/Dec/2021 21:33:51] \"GET /payment HTTP/1.1\" 200 -\n",
      "127.0.0.1 - - [12/Dec/2021 21:34:00] \"GET / HTTP/1.1\" 200 -\n",
      "127.0.0.1 - - [12/Dec/2021 21:34:09] \"GET /get_bot?msg=%3Cspan%20class%20%3D%20%22message%20user%22%3E%20User%3A%20bye%3C%2Fspan%3E HTTP/1.1\" 200 -\n"
     ]
    }
   ],
   "source": [
    "app = Flask(__name__)\n",
    "\n",
    "CORS(app)\n",
    "app.config.update(\n",
    "    TEMPLATES_AUTO_RELOAD = True\n",
    ")\n",
    "path = \"templates/main.html\"\n",
    "\n",
    "@app.route(\"/\")\n",
    "def home_page():\n",
    "    return (render_template(\"main.html\"))\n",
    "\n",
    "@app.route('/products')\n",
    "def product_page():\n",
    "    return (render_template(\"products.html\"))\n",
    "\n",
    "@app.route(\"/payment\")\n",
    "def payment_page():\n",
    "    return render_template(\"payment.html\")\n",
    "\n",
    "@app.route(\"/get_products\")\n",
    "def get_products():  \n",
    "    res = make_response(products)\n",
    "#     res.set_cookie('cross-site-cookie', samesite='None', secure=True);\n",
    "    return res\n",
    "\n",
    "@app.route(\"/get_bot\")\n",
    "def bot_response():\n",
    "    text = request.args.get('msg')\n",
    "    #for neural networks\n",
    "    res = chatbot_response(text) \n",
    "    #for sklearn models\n",
    "    #res = chatbot(text)\n",
    "    \n",
    "    data = json.dumps({\"intent\": res[1], \"response\": res[0]})    \n",
    "    return data\n",
    "\n",
    "\n",
    "if __name__ == \"__main__\":\n",
    "    app.run(host=\"localhost\", port=8002, debug=False)"
   ]
  },
  {
   "cell_type": "code",
   "execution_count": null,
   "id": "f0fdc1f2",
   "metadata": {},
   "outputs": [],
   "source": []
  },
  {
   "cell_type": "code",
   "execution_count": null,
   "id": "f8255022",
   "metadata": {},
   "outputs": [],
   "source": []
  }
 ],
 "metadata": {
  "kernelspec": {
   "display_name": "Python 3 (ipykernel)",
   "language": "python",
   "name": "python3"
  },
  "language_info": {
   "codemirror_mode": {
    "name": "ipython",
    "version": 3
   },
   "file_extension": ".py",
   "mimetype": "text/x-python",
   "name": "python",
   "nbconvert_exporter": "python",
   "pygments_lexer": "ipython3",
   "version": "3.7.11"
  }
 },
 "nbformat": 4,
 "nbformat_minor": 5
}
