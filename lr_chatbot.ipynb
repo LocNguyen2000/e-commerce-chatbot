{
 "cells": [
  {
   "cell_type": "markdown",
   "metadata": {},
   "source": [
    "# Chatbot for E-commerce (Logistic Regression)\n",
    "\n",
    "## 1. Data Analysis"
   ]
  },
  {
   "cell_type": "code",
   "execution_count": 10,
   "metadata": {},
   "outputs": [],
   "source": [
    "import nltk\n",
    "\n",
    "import json\n",
    "import numpy as np\n",
    "import random\n",
    "\n",
    "words=[]\n",
    "classes = []\n",
    "documents = []\n",
    "\n",
    "ignore_words = ['?', '!', \".\", \",\", \"'d\", \"'s\", \"@\" , \"#\"]\n",
    "\n",
    "data_file = open('intents.json').read()\n",
    "intents = json.loads(data_file)"
   ]
  },
  {
   "cell_type": "code",
   "execution_count": 11,
   "metadata": {},
   "outputs": [
    {
     "data": {
      "text/plain": [
       "{'intents': [{'tag': 'greeting',\n",
       "   'patterns': ['Hi there',\n",
       "    'How are you',\n",
       "    'Is anyone there?',\n",
       "    'Hey',\n",
       "    'Hola',\n",
       "    'Hello',\n",
       "    'Good day'],\n",
       "   'responses': ['Nice to meet you.',\n",
       "    'Hello, Good to see you.',\n",
       "    'Hi there, how can I help you?.'],\n",
       "   'context': ['']},\n",
       "  {'tag': 'introduce',\n",
       "   'patterns': ['What are you?',\n",
       "    'Who are you?',\n",
       "    'Can you introduce yourself?',\n",
       "    \"What's your name?\"],\n",
       "   'responses': ['My name is EMO. I am your Online Shopping Assistant.'],\n",
       "   'context': ['']},\n",
       "  {'tag': 'goodbye',\n",
       "   'patterns': ['Bye',\n",
       "    'See you later',\n",
       "    'Goodbye',\n",
       "    'Nice chatting to you, bye',\n",
       "    'Till next time'],\n",
       "   'responses': ['See you! Thanks for shopping with us.',\n",
       "    'Have a nice day',\n",
       "    'Bye! Come back again soon.'],\n",
       "   'context': ['']},\n",
       "  {'tag': 'thanks',\n",
       "   'patterns': ['Thanks',\n",
       "    'Thank you',\n",
       "    \"That's helpful\",\n",
       "    'Awesome, thanks',\n",
       "    'Thanks for helping me'],\n",
       "   'responses': ['Happy to help!', 'Any time!', 'My pleasure'],\n",
       "   'context': ['']},\n",
       "  {'tag': 'buybooks',\n",
       "   'patterns': ['I want to buy a romantic comedy genre book',\n",
       "    'I want to buy the newest novel you have',\n",
       "    'Do you sell books?',\n",
       "    'Can you recommend me some books?'],\n",
       "   'responses': ['Well, here are our list of products.',\n",
       "    'Here are some suggestions'],\n",
       "   'context': []},\n",
       "  {'tag': 'payment',\n",
       "   'patterns': ['How can i pay?',\n",
       "    'How much money does this cost?',\n",
       "    'Check out please',\n",
       "    'I am finished shopping.'],\n",
       "   'responses': [\"Here's your payment form.\"],\n",
       "   'context': []},\n",
       "  {'tag': 'noanswer',\n",
       "   'patterns': [' '],\n",
       "   'responses': [\"Sorry, can't understand you\",\n",
       "    'Please give me more info',\n",
       "    'Not sure I understand'],\n",
       "   'context': ['']}]}"
      ]
     },
     "execution_count": 11,
     "metadata": {},
     "output_type": "execute_result"
    }
   ],
   "source": [
    "intents"
   ]
  },
  {
   "cell_type": "code",
   "execution_count": 12,
   "metadata": {},
   "outputs": [],
   "source": [
    "for intent in intents['intents']:\n",
    "    for pattern in intent['patterns']:\n",
    "        #tokenize each word\n",
    "        w = nltk.word_tokenize(pattern)\n",
    "        words.extend(w)\n",
    "        #add documents in the corpus\n",
    "        documents.append((w, intent['tag']))\n",
    "        # add to our classes list\n",
    "        if intent['tag'] not in classes:\n",
    "            classes.append(intent['tag'])"
   ]
  },
  {
   "cell_type": "code",
   "execution_count": 13,
   "metadata": {},
   "outputs": [
    {
     "name": "stdout",
     "output_type": "stream",
     "text": [
      "Words:  ['Hi', 'there', 'How', 'are', 'you', 'Is', 'anyone', 'there', '?', 'Hey', 'Hola', 'Hello', 'Good', 'day', 'What', 'are', 'you', '?', 'Who', 'are', 'you', '?', 'Can', 'you', 'introduce', 'yourself', '?', 'What', \"'s\", 'your', 'name', '?', 'Bye', 'See', 'you', 'later', 'Goodbye', 'Nice', 'chatting', 'to', 'you', ',', 'bye', 'Till', 'next', 'time', 'Thanks', 'Thank', 'you', 'That', \"'s\", 'helpful', 'Awesome', ',', 'thanks', 'Thanks', 'for', 'helping', 'me', 'I', 'want', 'to', 'buy', 'a', 'romantic', 'comedy', 'genre', 'book', 'I', 'want', 'to', 'buy', 'the', 'newest', 'novel', 'you', 'have', 'Do', 'you', 'sell', 'books', '?', 'Can', 'you', 'recommend', 'me', 'some', 'books', '?', 'How', 'can', 'i', 'pay', '?', 'How', 'much', 'money', 'does', 'this', 'cost', '?', 'Check', 'out', 'please', 'I', 'am', 'finished', 'shopping', '.'] \n",
      "\n",
      "Words Size:  109 \n",
      "----------------- \n",
      "\n",
      "Classes:  ['greeting', 'introduce', 'goodbye', 'thanks', 'buybooks', 'payment', 'noanswer'] \n",
      "Classes Size:  7 \n",
      "----------------- \n",
      "\n",
      "Documents: \n",
      "Document Size:  30\n",
      "(['Hi', 'there'], 'greeting') \n",
      "\n",
      "(['How', 'are', 'you'], 'greeting') \n",
      "\n",
      "(['Is', 'anyone', 'there', '?'], 'greeting') \n",
      "\n",
      "(['Hey'], 'greeting') \n",
      "\n",
      "(['Hola'], 'greeting') \n",
      "\n",
      "(['Hello'], 'greeting') \n",
      "\n",
      "(['Good', 'day'], 'greeting') \n",
      "\n",
      "(['What', 'are', 'you', '?'], 'introduce') \n",
      "\n",
      "(['Who', 'are', 'you', '?'], 'introduce') \n",
      "\n",
      "(['Can', 'you', 'introduce', 'yourself', '?'], 'introduce') \n",
      "\n",
      "(['What', \"'s\", 'your', 'name', '?'], 'introduce') \n",
      "\n",
      "(['Bye'], 'goodbye') \n",
      "\n",
      "(['See', 'you', 'later'], 'goodbye') \n",
      "\n",
      "(['Goodbye'], 'goodbye') \n",
      "\n",
      "(['Nice', 'chatting', 'to', 'you', ',', 'bye'], 'goodbye') \n",
      "\n",
      "(['Till', 'next', 'time'], 'goodbye') \n",
      "\n",
      "(['Thanks'], 'thanks') \n",
      "\n",
      "(['Thank', 'you'], 'thanks') \n",
      "\n",
      "(['That', \"'s\", 'helpful'], 'thanks') \n",
      "\n",
      "(['Awesome', ',', 'thanks'], 'thanks') \n",
      "\n",
      "(['Thanks', 'for', 'helping', 'me'], 'thanks') \n",
      "\n",
      "(['I', 'want', 'to', 'buy', 'a', 'romantic', 'comedy', 'genre', 'book'], 'buybooks') \n",
      "\n",
      "(['I', 'want', 'to', 'buy', 'the', 'newest', 'novel', 'you', 'have'], 'buybooks') \n",
      "\n",
      "(['Do', 'you', 'sell', 'books', '?'], 'buybooks') \n",
      "\n",
      "(['Can', 'you', 'recommend', 'me', 'some', 'books', '?'], 'buybooks') \n",
      "\n",
      "(['How', 'can', 'i', 'pay', '?'], 'payment') \n",
      "\n",
      "(['How', 'much', 'money', 'does', 'this', 'cost', '?'], 'payment') \n",
      "\n",
      "(['Check', 'out', 'please'], 'payment') \n",
      "\n",
      "(['I', 'am', 'finished', 'shopping', '.'], 'payment') \n",
      "\n",
      "([], 'noanswer') \n",
      "\n"
     ]
    }
   ],
   "source": [
    "print(\"Words: \",words, \"\\n\")\n",
    "print(\"Words Size: \", len(words), \"\\n----------------- \\n\")\n",
    "\n",
    "print(\"Classes: \",classes, \"\\nClasses Size: \", len(classes),\n",
    "      \"\\n----------------- \\n\")\n",
    "\n",
    "print(\"Documents: \\nDocument Size: \", len(documents))\n",
    "for d in documents:\n",
    "     print(d, \"\\n\")"
   ]
  },
  {
   "cell_type": "markdown",
   "metadata": {},
   "source": [
    "## 2. Preprocess data\n",
    "\n"
   ]
  },
  {
   "cell_type": "code",
   "execution_count": 14,
   "metadata": {},
   "outputs": [
    {
     "name": "stdout",
     "output_type": "stream",
     "text": [
      "['a', 'am', 'anyone', 'are', 'awesome', 'book', 'buy', 'bye', 'can', 'chatting', 'check', 'comedy', 'cost', 'day', 'do', 'doe', 'finished', 'for', 'genre', 'good', 'goodbye', 'have', 'hello', 'helpful', 'helping', 'hey', 'hi', 'hola', 'how', 'i', 'introduce', 'is', 'later', 'me', 'money', 'much', 'name', 'newest', 'next', 'nice', 'novel', 'out', 'pay', 'please', 'recommend', 'romantic', 'see', 'sell', 'shopping', 'some', 'thank', 'thanks', 'that', 'the', 'there', 'this', 'till', 'time', 'to', 'want', 'what', 'who', 'you', 'your', 'yourself']\n"
     ]
    }
   ],
   "source": [
    "from nltk.stem import WordNetLemmatizer\n",
    "\n",
    "lemmatizer = WordNetLemmatizer()\n",
    "\n",
    "# lemmatize, lower each word and remove duplicates\n",
    "words = [lemmatizer.lemmatize(w.lower()) for w in words if w not in ignore_words]\n",
    "words = sorted(list(set(words)))\n",
    "\n",
    "print(words)"
   ]
  },
  {
   "cell_type": "code",
   "execution_count": 6,
   "metadata": {},
   "outputs": [
    {
     "data": {
      "text/plain": [
       "['buybooks',\n",
       " 'goodbye',\n",
       " 'greeting',\n",
       " 'introduce',\n",
       " 'noanswer',\n",
       " 'payment',\n",
       " 'thanks']"
      ]
     },
     "execution_count": 6,
     "metadata": {},
     "output_type": "execute_result"
    }
   ],
   "source": [
    "# sort classes\n",
    "classes = sorted(list(set(classes)))\n",
    "classes"
   ]
  },
  {
   "cell_type": "code",
   "execution_count": 7,
   "metadata": {},
   "outputs": [
    {
     "name": "stdout",
     "output_type": "stream",
     "text": [
      "65 unique lemmatized words ['a', 'am', 'anyone', 'are', 'awesome', 'book', 'buy', 'bye', 'can', 'chatting', 'check', 'comedy', 'cost', 'day', 'do', 'doe', 'finished', 'for', 'genre', 'good', 'goodbye', 'have', 'hello', 'helpful', 'helping', 'hey', 'hi', 'hola', 'how', 'i', 'introduce', 'is', 'later', 'me', 'money', 'much', 'name', 'newest', 'next', 'nice', 'novel', 'out', 'pay', 'please', 'recommend', 'romantic', 'see', 'sell', 'shopping', 'some', 'thank', 'thanks', 'that', 'the', 'there', 'this', 'till', 'time', 'to', 'want', 'what', 'who', 'you', 'your', 'yourself']\n"
     ]
    }
   ],
   "source": [
    "# words = all words, vocabulary\n",
    "print (len(words), \"unique lemmatized words\", words)"
   ]
  },
  {
   "cell_type": "code",
   "execution_count": 8,
   "metadata": {},
   "outputs": [],
   "source": [
    "# with open(\"words_data.json\", \"w\") as words_data:\n",
    "#     json.dump(words, words_data)\n",
    "# with open(\"classes_data.json\", \"w\") as classes_data:\n",
    "#     json.dump(classes, classes_data)"
   ]
  },
  {
   "cell_type": "markdown",
   "metadata": {},
   "source": [
    "## 3. Create training and testing data\n",
    "\n"
   ]
  },
  {
   "cell_type": "code",
   "execution_count": 9,
   "metadata": {},
   "outputs": [],
   "source": [
    "# create our training data\n",
    "training = []\n"
   ]
  },
  {
   "cell_type": "code",
   "execution_count": 12,
   "metadata": {},
   "outputs": [],
   "source": [
    "for d in documents:\n",
    "    bow = []\n",
    "    \n",
    "    pattern_words = d[0]\n",
    "    pattern_words = [lemmatizer.lemmatize(word.lower()) for word in pattern_words]\n",
    "    pattern_words = [w for w in pattern_words if w not in ignore_words]\n",
    "    #print(pattern_words)\n",
    "    for w in words:\n",
    "        bow.append(1) if w in pattern_words else bow.append(0)\n",
    "    y = classes.index(d[1])\n",
    "    \n",
    "    training.append([bow, y])"
   ]
  },
  {
   "cell_type": "code",
   "execution_count": 13,
   "metadata": {},
   "outputs": [
    {
     "name": "stdout",
     "output_type": "stream",
     "text": [
      "[[0, 0, 0, 0, 0, 0, 0, 0, 0, 0, 0, 0, 0, 0, 0, 0, 0, 0, 0, 0, 0, 0, 0, 0, 0, 0, 1, 0, 0, 0, 0, 0, 0, 0, 0, 0, 0, 0, 0, 0, 0, 0, 0, 0, 0, 0, 0, 0, 0, 0, 0, 0, 1, 0, 0, 0, 0, 0, 0, 0], 2]\n",
      "[[0, 0, 0, 1, 0, 0, 0, 0, 0, 0, 0, 0, 0, 0, 0, 0, 0, 0, 0, 0, 0, 0, 0, 0, 0, 0, 0, 0, 1, 0, 0, 0, 0, 0, 0, 0, 0, 0, 0, 0, 0, 0, 0, 0, 0, 0, 0, 0, 0, 0, 0, 0, 0, 0, 0, 0, 0, 0, 0, 1], 2]\n",
      "[[0, 0, 1, 0, 0, 0, 0, 0, 0, 0, 0, 0, 0, 0, 0, 0, 0, 0, 0, 0, 0, 0, 0, 0, 0, 0, 0, 0, 0, 0, 1, 0, 0, 0, 0, 0, 0, 0, 0, 0, 0, 0, 0, 0, 0, 0, 0, 0, 0, 0, 0, 0, 1, 0, 0, 0, 0, 0, 0, 0], 2]\n",
      "[[0, 0, 0, 0, 0, 0, 0, 0, 0, 0, 0, 0, 0, 0, 0, 0, 0, 0, 0, 0, 0, 0, 0, 0, 0, 1, 0, 0, 0, 0, 0, 0, 0, 0, 0, 0, 0, 0, 0, 0, 0, 0, 0, 0, 0, 0, 0, 0, 0, 0, 0, 0, 0, 0, 0, 0, 0, 0, 0, 0], 2]\n",
      "[[0, 0, 0, 0, 0, 0, 0, 0, 0, 0, 0, 0, 0, 0, 0, 0, 0, 0, 0, 0, 0, 0, 0, 0, 0, 0, 0, 1, 0, 0, 0, 0, 0, 0, 0, 0, 0, 0, 0, 0, 0, 0, 0, 0, 0, 0, 0, 0, 0, 0, 0, 0, 0, 0, 0, 0, 0, 0, 0, 0], 2]\n",
      "[[0, 0, 0, 0, 0, 0, 0, 0, 0, 0, 0, 0, 0, 0, 0, 0, 0, 0, 0, 0, 0, 0, 1, 0, 0, 0, 0, 0, 0, 0, 0, 0, 0, 0, 0, 0, 0, 0, 0, 0, 0, 0, 0, 0, 0, 0, 0, 0, 0, 0, 0, 0, 0, 0, 0, 0, 0, 0, 0, 0], 2]\n",
      "[[0, 0, 0, 0, 0, 0, 0, 0, 0, 0, 0, 0, 0, 1, 0, 0, 0, 0, 0, 1, 0, 0, 0, 0, 0, 0, 0, 0, 0, 0, 0, 0, 0, 0, 0, 0, 0, 0, 0, 0, 0, 0, 0, 0, 0, 0, 0, 0, 0, 0, 0, 0, 0, 0, 0, 0, 0, 0, 0, 0], 2]\n",
      "[[0, 0, 0, 0, 0, 0, 0, 1, 0, 0, 0, 0, 0, 0, 0, 0, 0, 0, 0, 0, 0, 0, 0, 0, 0, 0, 0, 0, 0, 0, 0, 0, 0, 0, 0, 0, 0, 0, 0, 0, 0, 0, 0, 0, 0, 0, 0, 0, 0, 0, 0, 0, 0, 0, 0, 0, 0, 0, 0, 0], 1]\n",
      "[[0, 0, 0, 0, 0, 0, 0, 0, 0, 0, 0, 0, 0, 0, 0, 0, 0, 0, 0, 0, 0, 0, 0, 0, 0, 0, 0, 0, 0, 0, 0, 1, 0, 0, 0, 0, 0, 0, 0, 0, 0, 0, 0, 0, 1, 0, 0, 0, 0, 0, 0, 0, 0, 0, 0, 0, 0, 0, 0, 1], 1]\n",
      "[[0, 0, 0, 0, 0, 0, 0, 0, 0, 0, 0, 0, 0, 0, 0, 0, 0, 0, 0, 0, 1, 0, 0, 0, 0, 0, 0, 0, 0, 0, 0, 0, 0, 0, 0, 0, 0, 0, 0, 0, 0, 0, 0, 0, 0, 0, 0, 0, 0, 0, 0, 0, 0, 0, 0, 0, 0, 0, 0, 0], 1]\n",
      "[[0, 0, 0, 0, 0, 0, 0, 1, 0, 1, 0, 0, 0, 0, 0, 0, 0, 0, 0, 0, 0, 0, 0, 0, 0, 0, 0, 0, 0, 0, 0, 0, 0, 0, 0, 0, 0, 1, 0, 0, 0, 0, 0, 0, 0, 0, 0, 0, 0, 0, 0, 0, 0, 0, 0, 0, 1, 0, 0, 1], 1]\n",
      "[[0, 0, 0, 0, 0, 0, 0, 0, 0, 0, 0, 0, 0, 0, 0, 0, 0, 0, 0, 0, 0, 0, 0, 0, 0, 0, 0, 0, 0, 0, 0, 0, 0, 0, 0, 0, 1, 0, 0, 0, 0, 0, 0, 0, 0, 0, 0, 0, 0, 0, 0, 0, 0, 0, 1, 1, 0, 0, 0, 0], 1]\n",
      "[[0, 1, 0, 0, 0, 0, 0, 0, 0, 0, 0, 0, 0, 0, 0, 0, 1, 0, 0, 0, 0, 0, 0, 0, 0, 0, 0, 0, 0, 1, 0, 0, 0, 0, 0, 0, 0, 0, 0, 0, 0, 0, 0, 0, 0, 0, 0, 0, 0, 0, 0, 0, 0, 0, 0, 0, 0, 0, 1, 0], 1]\n",
      "[[0, 0, 0, 0, 0, 0, 0, 0, 0, 0, 0, 0, 0, 0, 0, 0, 0, 0, 0, 0, 0, 0, 0, 0, 0, 0, 0, 0, 0, 0, 0, 0, 0, 0, 0, 0, 0, 0, 0, 0, 0, 0, 0, 0, 0, 0, 0, 0, 0, 1, 0, 0, 0, 0, 0, 0, 0, 0, 0, 0], 5]\n",
      "[[0, 0, 0, 0, 0, 0, 0, 0, 0, 0, 0, 0, 0, 0, 0, 0, 0, 0, 0, 0, 0, 0, 0, 0, 0, 0, 0, 0, 0, 0, 0, 0, 0, 0, 0, 0, 0, 0, 0, 0, 0, 0, 0, 0, 0, 0, 0, 0, 1, 0, 0, 0, 0, 0, 0, 0, 0, 0, 0, 1], 5]\n",
      "[[0, 0, 0, 0, 0, 0, 0, 0, 0, 0, 0, 0, 0, 0, 0, 0, 0, 0, 0, 0, 0, 0, 0, 1, 0, 0, 0, 0, 0, 0, 0, 0, 0, 0, 0, 0, 0, 0, 0, 0, 0, 0, 0, 0, 0, 0, 0, 0, 0, 0, 1, 0, 0, 0, 0, 0, 0, 0, 0, 0], 5]\n",
      "[[0, 0, 0, 0, 1, 0, 0, 0, 0, 0, 0, 0, 0, 0, 0, 0, 0, 0, 0, 0, 0, 0, 0, 0, 0, 0, 0, 0, 0, 0, 0, 0, 0, 0, 0, 0, 0, 0, 0, 0, 0, 0, 0, 0, 0, 0, 0, 0, 0, 1, 0, 0, 0, 0, 0, 0, 0, 0, 0, 0], 5]\n",
      "[[0, 0, 0, 0, 0, 0, 0, 0, 0, 0, 0, 0, 0, 0, 0, 0, 0, 1, 0, 0, 0, 0, 0, 0, 1, 0, 0, 0, 0, 0, 0, 0, 1, 0, 0, 0, 0, 0, 0, 0, 0, 0, 0, 0, 0, 0, 0, 0, 0, 1, 0, 0, 0, 0, 0, 0, 0, 0, 0, 0], 5]\n",
      "[[1, 0, 0, 0, 0, 1, 1, 0, 0, 0, 0, 1, 0, 0, 0, 0, 0, 0, 1, 0, 0, 0, 0, 0, 0, 0, 0, 0, 0, 1, 0, 0, 0, 0, 0, 0, 0, 0, 0, 0, 0, 0, 0, 1, 0, 0, 0, 0, 0, 0, 0, 0, 0, 0, 0, 0, 1, 1, 0, 0], 0]\n",
      "[[0, 0, 0, 0, 0, 0, 1, 0, 0, 0, 0, 0, 0, 0, 0, 0, 0, 0, 0, 0, 0, 1, 0, 0, 0, 0, 0, 0, 0, 1, 0, 0, 0, 0, 0, 1, 0, 0, 1, 0, 0, 0, 0, 0, 0, 0, 0, 0, 0, 0, 0, 1, 0, 0, 0, 0, 1, 1, 0, 1], 0]\n",
      "[[0, 0, 0, 0, 0, 1, 0, 0, 0, 0, 0, 0, 0, 0, 1, 0, 0, 0, 0, 0, 0, 0, 0, 0, 0, 0, 0, 0, 0, 0, 0, 0, 0, 0, 0, 0, 0, 0, 0, 0, 0, 0, 0, 0, 0, 1, 0, 0, 0, 0, 0, 0, 0, 0, 0, 0, 0, 0, 0, 1], 0]\n",
      "[[0, 0, 0, 0, 0, 1, 0, 0, 1, 0, 0, 0, 0, 0, 0, 0, 0, 0, 0, 0, 0, 0, 0, 0, 0, 0, 0, 0, 0, 0, 0, 0, 1, 0, 0, 0, 0, 0, 0, 0, 0, 0, 1, 0, 0, 0, 0, 1, 0, 0, 0, 0, 0, 0, 0, 0, 0, 0, 0, 1], 0]\n",
      "[[0, 0, 0, 0, 0, 0, 0, 0, 1, 0, 0, 0, 0, 0, 0, 0, 0, 0, 0, 0, 0, 0, 0, 0, 0, 0, 0, 0, 1, 1, 0, 0, 0, 0, 0, 0, 0, 0, 0, 0, 1, 0, 0, 0, 0, 0, 0, 0, 0, 0, 0, 0, 0, 0, 0, 0, 0, 0, 0, 0], 4]\n",
      "[[0, 0, 0, 0, 0, 0, 0, 0, 0, 0, 0, 0, 1, 0, 0, 1, 0, 0, 0, 0, 0, 0, 0, 0, 0, 0, 0, 0, 1, 0, 0, 0, 0, 1, 1, 0, 0, 0, 0, 0, 0, 0, 0, 0, 0, 0, 0, 0, 0, 0, 0, 0, 0, 1, 0, 0, 0, 0, 0, 0], 4]\n",
      "[[0, 0, 0, 0, 0, 0, 0, 0, 0, 0, 1, 0, 0, 0, 0, 0, 0, 0, 0, 0, 0, 0, 0, 0, 0, 0, 0, 0, 0, 0, 0, 0, 0, 0, 0, 0, 0, 0, 0, 1, 0, 1, 0, 0, 0, 0, 0, 0, 0, 0, 0, 0, 0, 0, 0, 0, 0, 0, 0, 0], 4]\n",
      "[[0, 1, 0, 0, 0, 0, 0, 0, 0, 0, 0, 0, 0, 0, 0, 0, 1, 0, 0, 0, 0, 0, 0, 0, 0, 0, 0, 0, 0, 1, 0, 0, 0, 0, 0, 0, 0, 0, 0, 0, 0, 0, 0, 0, 0, 0, 1, 0, 0, 0, 0, 0, 0, 0, 0, 0, 0, 0, 0, 0], 4]\n",
      "[[0, 0, 0, 0, 0, 0, 0, 0, 0, 0, 0, 0, 0, 0, 0, 0, 0, 0, 0, 0, 0, 0, 0, 0, 0, 0, 0, 0, 0, 0, 0, 0, 0, 0, 0, 0, 0, 0, 0, 0, 0, 0, 0, 0, 0, 0, 0, 0, 0, 0, 0, 0, 0, 0, 0, 0, 0, 0, 0, 0], 3]\n"
     ]
    }
   ],
   "source": [
    "for t in training:\n",
    "    print(t)"
   ]
  },
  {
   "cell_type": "code",
   "execution_count": 14,
   "metadata": {},
   "outputs": [],
   "source": [
    "# shuffle our features and turn into np.array\n",
    "random.shuffle(training)\n",
    "training = np.array(training, dtype=object)\n",
    "\n",
    "# create train and test lists. X - patterns, Y - intents\n",
    "X_train = list(training[:,0])\n",
    "y_train = list(training[:,1])"
   ]
  },
  {
   "cell_type": "code",
   "execution_count": null,
   "metadata": {},
   "outputs": [],
   "source": []
  },
  {
   "cell_type": "markdown",
   "metadata": {},
   "source": [
    "## 4. Build the Model"
   ]
  },
  {
   "cell_type": "code",
   "execution_count": 15,
   "metadata": {},
   "outputs": [
    {
     "data": {
      "text/plain": [
       "LogisticRegression()"
      ]
     },
     "execution_count": 15,
     "metadata": {},
     "output_type": "execute_result"
    }
   ],
   "source": [
    "from sklearn.naive_bayes import GaussianNB\n",
    "from sklearn.linear_model import LogisticRegression\n",
    "\n",
    "gnb = GaussianNB()\n",
    "lr = LogisticRegression()\n",
    "\n",
    "lr.fit(X_train, y_train)\n"
   ]
  },
  {
   "cell_type": "markdown",
   "metadata": {},
   "source": [
    "## 5. Predict response"
   ]
  },
  {
   "cell_type": "code",
   "execution_count": 16,
   "metadata": {},
   "outputs": [],
   "source": [
    "import random\n",
    "ignore_words = ['?', '!', \".\", \",\", \"'s\"]\n",
    "\n",
    "def clean(sentence):\n",
    "    # tokenize the pattern - split words into array\n",
    "    sentence_words = nltk.word_tokenize(sentence)\n",
    "    # stem each word - create short form for word\n",
    "    sentence_words = [lemmatizer.lemmatize(word.lower()) for word in sentence_words if word not in ignore_words]\n",
    "    print(\"CLEAN: \", sentence_words , \"\\n\")\n",
    "    return sentence_words\n",
    "\n",
    "# return bag of words array: 0 or 1 for each word in the bag that exists in the sentence\n",
    "def bow(sentence, show_details=True):\n",
    "    # tokenize the pattern\n",
    "    sentence_words = clean(sentence)\n",
    "    # bag of words - matrix of N words, vocabulary matrix\n",
    "    bag = [0]*len(words) \n",
    "    for s in sentence_words:\n",
    "        for i,w in enumerate(words):\n",
    "            if w == s: \n",
    "                # assign 1 if current word is in the vocabulary position\n",
    "                bag[i] = 1\n",
    "                if show_details:\n",
    "                    print (\"found in bag: %s\" % w)\n",
    "    print(\"BAG: \",bag, \"\\n\")\n",
    "    return(np.array(bag))\n",
    "\n",
    "def predict(sentence):\n",
    "    x_vec = bow(sentence, show_details = False)\n",
    "    y_pred = lr.predict(np.array([x_vec]))[0]\n",
    "    intent = classes[y_pred]\n",
    "    print(\"PREDICT: \",intent, \"\\n\")\n",
    "\n",
    "    return intent"
   ]
  },
  {
   "cell_type": "code",
   "execution_count": 18,
   "metadata": {},
   "outputs": [],
   "source": [
    "def get_response(intent):\n",
    "    intent_list = intents[\"intents\"]\n",
    "    for i in intent_list:\n",
    "        if (i['tag'] == intent):\n",
    "            result = random.choice(i['responses'])\n",
    "            break\n",
    "    return result\n",
    "def chatbot(word):\n",
    "    pred = predict(word)\n",
    "    res = get_response(pred)\n",
    "    return res"
   ]
  },
  {
   "cell_type": "code",
   "execution_count": null,
   "metadata": {},
   "outputs": [],
   "source": [
    "while(True):\n",
    "    w = str(input())\n",
    "    print(\"You: \", w)\n",
    "    print(\"Bot: \",chatbot(w))\n",
    "    print(\"-------------\")\n",
    "    "
   ]
  },
  {
   "cell_type": "code",
   "execution_count": null,
   "metadata": {},
   "outputs": [],
   "source": []
  }
 ],
 "metadata": {
  "kernelspec": {
   "display_name": "Python 3",
   "language": "python",
   "name": "python3"
  },
  "language_info": {
   "codemirror_mode": {
    "name": "ipython",
    "version": 3
   },
   "file_extension": ".py",
   "mimetype": "text/x-python",
   "name": "python",
   "nbconvert_exporter": "python",
   "pygments_lexer": "ipython3",
   "version": "3.8.8"
  }
 },
 "nbformat": 4,
 "nbformat_minor": 4
}
